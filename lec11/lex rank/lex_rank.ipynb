{
 "cells": [
  {
   "cell_type": "markdown",
   "metadata": {},
   "source": [
    "## Text Summarization"
   ]
  },
  {
   "cell_type": "markdown",
   "metadata": {},
   "source": [
    "В данном задании мы будем строить саммари из текста, используя алгоритм LexRank (https://www.cs.cmu.edu/afs/cs/project/jair/pub/volume22/erkan04a-html/erkan04a.html)"
   ]
  },
  {
   "cell_type": "code",
   "execution_count": 25,
   "metadata": {},
   "outputs": [],
   "source": [
    "import pandas as pd\n",
    "import numpy as np\n",
    "import re\n",
    "import os\n",
    "import math\n",
    "from collections import Counter\n",
    "from collections import defaultdict\n",
    "import nltk\n",
    "from nltk import RegexpTokenizer\n",
    "from nltk import SnowballStemmer"
   ]
  },
  {
   "cell_type": "markdown",
   "metadata": {},
   "source": [
    "Загрузим документы из файлов."
   ]
  },
  {
   "cell_type": "code",
   "execution_count": 26,
   "metadata": {},
   "outputs": [],
   "source": [
    "data_dir = './data'"
   ]
  },
  {
   "cell_type": "code",
   "execution_count": 27,
   "metadata": {},
   "outputs": [],
   "source": [
    "documents = []\n",
    "for file in os.listdir(data_dir):\n",
    "    file_name = data_dir + '/' + file\n",
    "    with open(file_name) as f:\n",
    "        data = f.read()\n",
    "        documents.append(data.strip())"
   ]
  },
  {
   "cell_type": "markdown",
   "metadata": {},
   "source": [
    "Посмотрим, как выглядят документы:"
   ]
  },
  {
   "cell_type": "code",
   "execution_count": 28,
   "metadata": {},
   "outputs": [
    {
     "data": {
      "text/plain": [
       "\"The New York Times said in an editorial for Sunday, Dec. 20: The Republicans' drive for a partisan impeachment based soley on party-line voting power rather than any sense of proportion produced an unexpected sideshow in the resignation of Rep. Bob Livingston from his role as future speaker of the House. Analysts on both sides of the struggle over President Clinton's future will point to Livingston's downfall as evidence of a generalized breakdown in legislative civility on Capitol Hill. Democrats will see a moral symmetry, depicting Livingston as a victim of the sexual puritanism he was wielding against Clinton. But the one thing that no one should fall for is Livingston's invitation to use his resignation as a model for resolving the crisis at the White House. Livingston's statement rocked Congress, but it should not shake the foundations of the somber constitutional process now underway. By lying under oath, Clinton made it necessary for the House to consider impeachment. The evidence convinced most Americans that the president should be censured, but not removed from office. Livingston allowed GOP partisans to block censure in the House. The result is that after Saturday's expected impeachment vote, after Livingston's unexpected announcement, the mission of the Senate remains the same. It must resist those Republicans who want to short-circuit the constitutional process with demands for resignation, and it must use the upcoming Senate trial as a forum for finding a censure commensurate with the president's personal dishonesty and offenses against the law. These require stern punishment but not removal from office. In undertaking this work, the Senate must also reassure the American people that a decisive wisdom at the core of our messy-looking political system has not melted down. In such distempered times, this is a shining opportunity for the Senate. Its members pride themselves on being the Republic's fire wall against presidential excess and the popular or partisan passions that sometimes seize the House of Representatives. No one can predict whether Senate Majority Leader Trent Lott will rise to the defining challenge of his career or whether he will surrender to the mean streak he acquired during 16 grumpy years as a minority member of the House. We would like to see Lott reach for a starring role in history. Lott's growling response to questions about censure is not encouraging. He may be right that the Constitution requires him to convene a trial, but nothing in that document prevents him from speedily guiding the Senate toward censure negotiations. Indeed, a simple majority vote _ 45 Democrats plus 6 cooperating Republicans _ can end the Senate trial at any time, clearing the way for introduction of the kind of censure resolution suggested by former Sen. Bob Dole. In an intriguing report on NBC, Tim Russert described discussions among a bipartisan group of senators about a censure that would involve some form of presidential confession, a fine and a joint congressional request that Independent Counsel Kenneth Starr not prosecute Clinton in the courts. If Lott refuses to allow a bipartisan search for censure, the burden will fall upon respected members like Joseph Lieberman on the Democratic side and Orrin Hatch for the Republicans. Through cooperation, they can guide the Senate toward a punishment that fixes Clinton in history as a president who lied under oath, but avoids the taint of partisan vengeance associated with the House impeachment vote. The Senate's historic reputation for prudence requires it to find appropriate punishment for a personally weak president who has damaged the rule of law, but not threatened the stability of the government.\""
      ]
     },
     "execution_count": 28,
     "metadata": {},
     "output_type": "execute_result"
    }
   ],
   "source": [
    "documents[0]"
   ]
  },
  {
   "cell_type": "markdown",
   "metadata": {},
   "source": [
    "Разобьем текст каждого документа на предложения."
   ]
  },
  {
   "cell_type": "code",
   "execution_count": 29,
   "metadata": {},
   "outputs": [],
   "source": [
    "def get_sentences(doc):\n",
    "    \"\"\"\n",
    "    Get sentences from document\n",
    "\n",
    "    Inputs:\n",
    "    - text: string\n",
    "\n",
    "    Returns:\n",
    "    - list of sentences\n",
    "    \"\"\"\n",
    "    return re.split(u'(?<!\\w\\.\\w.)(?<![A-Z][a-z]\\.)(?<=\\.|\\?)\\s', doc)"
   ]
  },
  {
   "cell_type": "code",
   "execution_count": 30,
   "metadata": {},
   "outputs": [
    {
     "name": "stdout",
     "output_type": "stream",
     "text": [
      "['The New York Times said in an editorial for Sunday, Dec.', \"20: The Republicans' drive for a partisan impeachment based soley on party-line voting power rather than any sense of proportion produced an unexpected sideshow in the resignation of Rep.\", 'Bob Livingston from his role as future speaker of the House.', \"Analysts on both sides of the struggle over President Clinton's future will point to Livingston's downfall as evidence of a generalized breakdown in legislative civility on Capitol Hill.\", 'Democrats will see a moral symmetry, depicting Livingston as a victim of the sexual puritanism he was wielding against Clinton.', \"But the one thing that no one should fall for is Livingston's invitation to use his resignation as a model for resolving the crisis at the White House.\", \"Livingston's statement rocked Congress, but it should not shake the foundations of the somber constitutional process now underway.\", 'By lying under oath, Clinton made it necessary for the House to consider impeachment.', 'The evidence convinced most Americans that the president should be censured, but not removed from office.', 'Livingston allowed GOP partisans to block censure in the House.', \"The result is that after Saturday's expected impeachment vote, after Livingston's unexpected announcement, the mission of the Senate remains the same.\", \"It must resist those Republicans who want to short-circuit the constitutional process with demands for resignation, and it must use the upcoming Senate trial as a forum for finding a censure commensurate with the president's personal dishonesty and offenses against the law.\", 'These require stern punishment but not removal from office.', 'In undertaking this work, the Senate must also reassure the American people that a decisive wisdom at the core of our messy-looking political system has not melted down.', 'In such distempered times, this is a shining opportunity for the Senate.', \"Its members pride themselves on being the Republic's fire wall against presidential excess and the popular or partisan passions that sometimes seize the House of Representatives.\", 'No one can predict whether Senate Majority Leader Trent Lott will rise to the defining challenge of his career or whether he will surrender to the mean streak he acquired during 16 grumpy years as a minority member of the House.', 'We would like to see Lott reach for a starring role in history.', \"Lott's growling response to questions about censure is not encouraging.\", 'He may be right that the Constitution requires him to convene a trial, but nothing in that document prevents him from speedily guiding the Senate toward censure negotiations.', 'Indeed, a simple majority vote _ 45 Democrats plus 6 cooperating Republicans _ can end the Senate trial at any time, clearing the way for introduction of the kind of censure resolution suggested by former Sen.', 'Bob Dole.', 'In an intriguing report on NBC, Tim Russert described discussions among a bipartisan group of senators about a censure that would involve some form of presidential confession, a fine and a joint congressional request that Independent Counsel Kenneth Starr not prosecute Clinton in the courts.', 'If Lott refuses to allow a bipartisan search for censure, the burden will fall upon respected members like Joseph Lieberman on the Democratic side and Orrin Hatch for the Republicans.', 'Through cooperation, they can guide the Senate toward a punishment that fixes Clinton in history as a president who lied under oath, but avoids the taint of partisan vengeance associated with the House impeachment vote.', \"The Senate's historic reputation for prudence requires it to find appropriate punishment for a personally weak president who has damaged the rule of law, but not threatened the stability of the government.\"]\n"
     ]
    }
   ],
   "source": [
    "sentences = get_sentences(documents[0])\n",
    "print sentences"
   ]
  },
  {
   "cell_type": "markdown",
   "metadata": {},
   "source": [
    "Далее нужно разделить каждое предложение на токены (слова), при этом можно удалить пунктуацию, стоп-слова, выполнить стемминг."
   ]
  },
  {
   "cell_type": "code",
   "execution_count": 31,
   "metadata": {},
   "outputs": [],
   "source": [
    "from nltk.stem import WordNetLemmatizer\n",
    "morph = WordNetLemmatizer()"
   ]
  },
  {
   "cell_type": "code",
   "execution_count": 32,
   "metadata": {},
   "outputs": [],
   "source": [
    "from nltk.corpus import stopwords\n",
    "from nltk.tokenize import word_tokenize\n",
    "stop_words = stopwords.words('english')"
   ]
  },
  {
   "cell_type": "code",
   "execution_count": 33,
   "metadata": {},
   "outputs": [],
   "source": [
    "def is_stop(word):\n",
    "    if word in stop_words:\n",
    "        return False\n",
    "    return True\n",
    "def lem_word(w):\n",
    "    return morph.lemmatize(w)\n",
    "def stem_word(w):\n",
    "    stemmer = SnowballStemmer(\"english\")\n",
    "    return stemmer.stem(w)"
   ]
  },
  {
   "cell_type": "code",
   "execution_count": 34,
   "metadata": {},
   "outputs": [],
   "source": [
    "def sentence_words(sentence):\n",
    "    \"\"\"\n",
    "    Get words from sentence\n",
    "    \n",
    "    Perform normalization, remove punctuation, remove stop_words, etc...\n",
    "\n",
    "    Inputs:\n",
    "    - sentence: string - sentence text\n",
    "\n",
    "    Returns:\n",
    "    - list of strings\n",
    "    \"\"\"\n",
    "    sentence_terms = None\n",
    "    tokenizer = RegexpTokenizer(u'\\w+')\n",
    "    sentence = tokenizer.tokenize(sentence)\n",
    "    #############################################################################\n",
    "    #                                 YOUR CODE                                 #\n",
    "    #############################################################################\n",
    "    pass\n",
    "    #############################################################################\n",
    "    #                              END OF YOUR CODE                             #\n",
    "    #############################################################################\n",
    "    return map(stem_word, map(lem_word, filter(is_stop, sentence)))"
   ]
  },
  {
   "cell_type": "code",
   "execution_count": 35,
   "metadata": {},
   "outputs": [],
   "source": [
    "sentences = map(sentence_words, sentences)"
   ]
  },
  {
   "cell_type": "code",
   "execution_count": 36,
   "metadata": {},
   "outputs": [
    {
     "data": {
      "text/plain": [
       "[[u'the', u'new', u'york', u'time', u'said', u'editori', u'sunday', u'dec'],\n",
       " ['20',\n",
       "  u'the',\n",
       "  u'republican',\n",
       "  u'drive',\n",
       "  u'partisan',\n",
       "  u'impeach',\n",
       "  u'base',\n",
       "  u'soley',\n",
       "  u'parti',\n",
       "  u'line',\n",
       "  u'vote',\n",
       "  u'power',\n",
       "  u'rather',\n",
       "  u'sens',\n",
       "  u'proport',\n",
       "  u'produc',\n",
       "  u'unexpect',\n",
       "  u'sideshow',\n",
       "  u'resign',\n",
       "  u'rep'],\n",
       " [u'bob', u'livingston', u'role', u'futur', u'speaker', u'hous'],\n",
       " [u'analyst',\n",
       "  u'side',\n",
       "  u'struggl',\n",
       "  u'presid',\n",
       "  u'clinton',\n",
       "  u'futur',\n",
       "  u'point',\n",
       "  u'livingston',\n",
       "  u'downfal',\n",
       "  u'evid',\n",
       "  u'general',\n",
       "  u'breakdown',\n",
       "  u'legisl',\n",
       "  u'civil',\n",
       "  u'capitol',\n",
       "  u'hill'],\n",
       " [u'democrat',\n",
       "  u'see',\n",
       "  u'moral',\n",
       "  u'symmetri',\n",
       "  u'depict',\n",
       "  u'livingston',\n",
       "  u'victim',\n",
       "  u'sexual',\n",
       "  u'puritan',\n",
       "  u'wield',\n",
       "  u'clinton'],\n",
       " [u'but',\n",
       "  u'one',\n",
       "  u'thing',\n",
       "  u'one',\n",
       "  u'fall',\n",
       "  u'livingston',\n",
       "  u'invit',\n",
       "  u'use',\n",
       "  u'resign',\n",
       "  u'model',\n",
       "  u'resolv',\n",
       "  u'crisi',\n",
       "  u'white',\n",
       "  u'hous'],\n",
       " [u'livingston',\n",
       "  u'statement',\n",
       "  u'rock',\n",
       "  u'congress',\n",
       "  u'shake',\n",
       "  u'foundat',\n",
       "  u'somber',\n",
       "  u'constitut',\n",
       "  u'process',\n",
       "  u'underway'],\n",
       " ['by',\n",
       "  u'lie',\n",
       "  u'oath',\n",
       "  u'clinton',\n",
       "  u'made',\n",
       "  u'necessari',\n",
       "  u'hous',\n",
       "  u'consid',\n",
       "  u'impeach'],\n",
       " [u'the',\n",
       "  u'evid',\n",
       "  u'convinc',\n",
       "  u'american',\n",
       "  u'presid',\n",
       "  u'censur',\n",
       "  u'remov',\n",
       "  u'offic'],\n",
       " [u'livingston', u'allow', u'gop', u'partisan', u'block', u'censur', u'hous'],\n",
       " [u'the',\n",
       "  u'result',\n",
       "  u'saturday',\n",
       "  u'expect',\n",
       "  u'impeach',\n",
       "  u'vote',\n",
       "  u'livingston',\n",
       "  u'unexpect',\n",
       "  u'announc',\n",
       "  u'mission',\n",
       "  u'senat',\n",
       "  u'remain'],\n",
       " ['it',\n",
       "  u'must',\n",
       "  u'resist',\n",
       "  u'republican',\n",
       "  u'want',\n",
       "  u'short',\n",
       "  u'circuit',\n",
       "  u'constitut',\n",
       "  u'process',\n",
       "  u'demand',\n",
       "  u'resign',\n",
       "  u'must',\n",
       "  u'use',\n",
       "  u'upcom',\n",
       "  u'senat',\n",
       "  u'trial',\n",
       "  u'forum',\n",
       "  u'find',\n",
       "  u'censur',\n",
       "  u'commensur',\n",
       "  u'presid',\n",
       "  u'person',\n",
       "  u'dishonesti',\n",
       "  u'offens',\n",
       "  u'law'],\n",
       " [u'these', u'requir', u'stern', u'punish', u'remov', u'offic'],\n",
       " ['in',\n",
       "  u'undertak',\n",
       "  u'work',\n",
       "  u'senat',\n",
       "  u'must',\n",
       "  u'also',\n",
       "  u'reassur',\n",
       "  u'american',\n",
       "  u'peopl',\n",
       "  u'decis',\n",
       "  u'wisdom',\n",
       "  u'core',\n",
       "  u'messi',\n",
       "  u'look',\n",
       "  u'polit',\n",
       "  u'system',\n",
       "  u'melt'],\n",
       " ['in', u'distemp', u'time', u'shine', u'opportun', u'senat'],\n",
       " [u'it',\n",
       "  u'member',\n",
       "  u'pride',\n",
       "  u'republ',\n",
       "  u'fire',\n",
       "  u'wall',\n",
       "  u'presidenti',\n",
       "  u'excess',\n",
       "  u'popular',\n",
       "  u'partisan',\n",
       "  u'passion',\n",
       "  u'sometim',\n",
       "  u'seiz',\n",
       "  u'hous',\n",
       "  u'repres'],\n",
       " ['no',\n",
       "  u'one',\n",
       "  u'predict',\n",
       "  u'whether',\n",
       "  u'senat',\n",
       "  u'major',\n",
       "  u'leader',\n",
       "  u'trent',\n",
       "  u'lott',\n",
       "  u'rise',\n",
       "  u'defin',\n",
       "  u'challeng',\n",
       "  u'career',\n",
       "  u'whether',\n",
       "  u'surrend',\n",
       "  u'mean',\n",
       "  u'streak',\n",
       "  u'acquir',\n",
       "  '16',\n",
       "  u'grumpi',\n",
       "  u'year',\n",
       "  u'minor',\n",
       "  u'member',\n",
       "  u'hous'],\n",
       " ['we',\n",
       "  u'would',\n",
       "  u'like',\n",
       "  u'see',\n",
       "  u'lott',\n",
       "  u'reach',\n",
       "  u'star',\n",
       "  u'role',\n",
       "  u'histori'],\n",
       " [u'lott', u'growl', u'respons', u'question', u'censur', u'encourag'],\n",
       " ['he',\n",
       "  u'may',\n",
       "  u'right',\n",
       "  u'constitut',\n",
       "  u'requir',\n",
       "  u'conven',\n",
       "  u'trial',\n",
       "  u'noth',\n",
       "  u'document',\n",
       "  u'prevent',\n",
       "  u'speedili',\n",
       "  u'guid',\n",
       "  u'senat',\n",
       "  u'toward',\n",
       "  u'censur',\n",
       "  u'negoti'],\n",
       " [u'inde',\n",
       "  u'simpl',\n",
       "  u'major',\n",
       "  u'vote',\n",
       "  '_',\n",
       "  '45',\n",
       "  u'democrat',\n",
       "  u'plus',\n",
       "  '6',\n",
       "  u'cooper',\n",
       "  u'republican',\n",
       "  '_',\n",
       "  u'end',\n",
       "  u'senat',\n",
       "  u'trial',\n",
       "  u'time',\n",
       "  u'clear',\n",
       "  u'way',\n",
       "  u'introduct',\n",
       "  u'kind',\n",
       "  u'censur',\n",
       "  u'resolut',\n",
       "  u'suggest',\n",
       "  u'former',\n",
       "  u'sen'],\n",
       " [u'bob', u'dole'],\n",
       " ['in',\n",
       "  u'intrigu',\n",
       "  u'report',\n",
       "  u'nbc',\n",
       "  u'tim',\n",
       "  u'russert',\n",
       "  u'describ',\n",
       "  u'discuss',\n",
       "  u'among',\n",
       "  u'bipartisan',\n",
       "  u'group',\n",
       "  u'senat',\n",
       "  u'censur',\n",
       "  u'would',\n",
       "  u'involv',\n",
       "  u'form',\n",
       "  u'presidenti',\n",
       "  u'confess',\n",
       "  u'fine',\n",
       "  u'joint',\n",
       "  u'congression',\n",
       "  u'request',\n",
       "  u'independ',\n",
       "  u'counsel',\n",
       "  u'kenneth',\n",
       "  u'starr',\n",
       "  u'prosecut',\n",
       "  u'clinton',\n",
       "  u'court'],\n",
       " ['if',\n",
       "  u'lott',\n",
       "  u'refus',\n",
       "  u'allow',\n",
       "  u'bipartisan',\n",
       "  u'search',\n",
       "  u'censur',\n",
       "  u'burden',\n",
       "  u'fall',\n",
       "  u'upon',\n",
       "  u'respect',\n",
       "  u'member',\n",
       "  u'like',\n",
       "  u'joseph',\n",
       "  u'lieberman',\n",
       "  u'democrat',\n",
       "  u'side',\n",
       "  u'orrin',\n",
       "  u'hatch',\n",
       "  u'republican'],\n",
       " [u'through',\n",
       "  u'cooper',\n",
       "  u'guid',\n",
       "  u'senat',\n",
       "  u'toward',\n",
       "  u'punish',\n",
       "  u'fix',\n",
       "  u'clinton',\n",
       "  u'histori',\n",
       "  u'presid',\n",
       "  u'lie',\n",
       "  u'oath',\n",
       "  u'avoid',\n",
       "  u'taint',\n",
       "  u'partisan',\n",
       "  u'vengeanc',\n",
       "  u'associ',\n",
       "  u'hous',\n",
       "  u'impeach',\n",
       "  u'vote'],\n",
       " [u'the',\n",
       "  u'senat',\n",
       "  u'histor',\n",
       "  u'reput',\n",
       "  u'prudenc',\n",
       "  u'requir',\n",
       "  u'find',\n",
       "  u'appropri',\n",
       "  u'punish',\n",
       "  u'person',\n",
       "  u'weak',\n",
       "  u'presid',\n",
       "  u'damag',\n",
       "  u'rule',\n",
       "  u'law',\n",
       "  u'threaten',\n",
       "  u'stabil',\n",
       "  u'govern']]"
      ]
     },
     "execution_count": 36,
     "metadata": {},
     "output_type": "execute_result"
    }
   ],
   "source": [
    "sentences"
   ]
  },
  {
   "cell_type": "markdown",
   "metadata": {},
   "source": [
    "Нам необходима функция для подсчета tf слов в каждом предложении:"
   ]
  },
  {
   "cell_type": "code",
   "execution_count": 37,
   "metadata": {},
   "outputs": [],
   "source": [
    "def compute_tf(sentences):\n",
    "    \"\"\"\n",
    "    Compute TF for each term in sentece for all sentences\n",
    "\n",
    "    Inputs:\n",
    "    - sentences: list of tokenized sentences\n",
    "\n",
    "    Returns:\n",
    "    - list of dicts of tf values\n",
    "    \"\"\"\n",
    "    tf_values = map(Counter, sentences)\n",
    "\n",
    "    tf_metrics = []\n",
    "    #############################################################################\n",
    "    #                                 YOUR CODE                                 #\n",
    "    #############################################################################\n",
    "    for idx, sentence in enumerate(sentences):\n",
    "        tf_metrics.append(defaultdict(float, {key : float(value) / len(sentence) for (key, value) in tf_values[idx].items()}))\n",
    "            \n",
    "    #############################################################################\n",
    "    #                              END OF YOUR CODE                             #\n",
    "    #############################################################################\n",
    "\n",
    "    return tf_metrics"
   ]
  },
  {
   "cell_type": "code",
   "execution_count": 38,
   "metadata": {},
   "outputs": [],
   "source": [
    "tf_metrics = compute_tf(sentences)"
   ]
  },
  {
   "cell_type": "markdown",
   "metadata": {},
   "source": [
    "Так же нам необходима функция для подсчета IDF всех токенов из текста:"
   ]
  },
  {
   "cell_type": "code",
   "execution_count": 39,
   "metadata": {},
   "outputs": [],
   "source": [
    "def compute_idf(sentences):\n",
    "    \"\"\"\n",
    "    Compute IDF for each term in sentece\n",
    "\n",
    "    Inputs:\n",
    "    - sentences: list of sentences\n",
    "    \n",
    "    Returns:\n",
    "    - dictionary of form { term : idf }\n",
    "    \"\"\"\n",
    "    idf_metrics = {}\n",
    "    sentences_count = len(sentences)\n",
    "    \n",
    "    counter = Counter()\n",
    "\n",
    "    #############################################################################\n",
    "    #                                 YOUR CODE                                 #\n",
    "    #############################################################################\n",
    "    for sentence in sentences:\n",
    "        tmp_counter = Counter(sentence)\n",
    "        for key in tmp_counter.keys():\n",
    "            counter[key] += 1\n",
    "            \n",
    "    for key, value in counter.items():\n",
    "        idf_metrics[key] = np.log(float(sentences_count) / value)\n",
    "    #############################################################################\n",
    "    #                              END OF YOUR CODE                             #\n",
    "    #############################################################################\n",
    "\n",
    "    return idf_metrics"
   ]
  },
  {
   "cell_type": "code",
   "execution_count": 40,
   "metadata": {},
   "outputs": [],
   "source": [
    "idf_metrics = compute_idf(sentences)"
   ]
  },
  {
   "cell_type": "markdown",
   "metadata": {},
   "source": [
    "Для того, чтобы определить похожесть двух предложений, нам нужно использовать какую-то метрику похожести. Мы будем использовать модицифированное косинусное расстояние."
   ]
  },
  {
   "cell_type": "code",
   "execution_count": 41,
   "metadata": {},
   "outputs": [],
   "source": [
    "def cosine_similarity(sentence1, sentence2, tf1, tf2, idf_metrics):\n",
    "    \"\"\"\n",
    "    Compute idf-modified-cosine distance between two sentences.\n",
    "    \n",
    "    Inputs:\n",
    "    - sentence1: list of terms of sentence 1\n",
    "    - sentence2: list of terms of sentence 2\n",
    "    - tf1: dict of term frequencies of sentence 1\n",
    "    - tf2: dict of term frequencies of sentence 2\n",
    "    - idf_metrics: list of inverted document frequencies\n",
    "\n",
    "    Returns:\n",
    "    - modified cosine similarity\n",
    "    \"\"\"\n",
    "    similarity = 0.0\n",
    "    norm_1 = 0.0\n",
    "    norm_2 = 0.0\n",
    "    \n",
    "    #############################################################################\n",
    "    #                                 YOUR CODE                                 #\n",
    "    #############################################################################\n",
    "    for word, idf in idf_metrics.items():\n",
    "        similarity += tf1[word] * idf * tf2[word] * idf\n",
    "        norm_1 += (tf1[word] * idf) ** 2\n",
    "        norm_2 += (tf2[word] * idf) ** 2\n",
    "    similarity /= (np.sqrt(norm_1) * np.sqrt(norm_2))\n",
    "    #############################################################################\n",
    "    #                              END OF YOUR CODE                             #\n",
    "    #############################################################################\n",
    "    \n",
    "    return similarity"
   ]
  },
  {
   "cell_type": "markdown",
   "metadata": {},
   "source": [
    "Создадим матрицу размером NxN, где N - это количество предложений. В каждой ячейки i,j - будем записывать похожесть i-го предложения на j-ое."
   ]
  },
  {
   "cell_type": "code",
   "execution_count": 42,
   "metadata": {},
   "outputs": [],
   "source": [
    "def create_matrix(sentences, threshold, tf_metrics, idf_metrics):\n",
    "    \"\"\"\n",
    "    Creates matrix of shape |sentences|×|sentences|.\n",
    "    \n",
    "    Inputs:\n",
    "    - sentences: list of sentences\n",
    "    - threshold: threshold value for selecting edges\n",
    "    - tf_metrics: list of TF metrics for each sentence\n",
    "    - idf_metrics: list of inverted document frequencies\n",
    "\n",
    "    Returns:\n",
    "    - matrix of similarities\n",
    "    \"\"\"\n",
    "    sentences_count = len(sentences)\n",
    "    matrix = np.zeros((sentences_count, sentences_count), dtype=np.float)\n",
    "    degrees = np.zeros((sentences_count, ))\n",
    "\n",
    "    #############################################################################\n",
    "    #                                 YOUR CODE                                 #\n",
    "    #############################################################################\n",
    "    for idx in xrange(sentences_count):\n",
    "        for jdx in xrange(sentences_count):\n",
    "            if cosine_similarity(sentences[idx], sentences[jdx], tf_metrics[idx], tf_metrics[jdx], idf_metrics) > threshold and idx != jdx:\n",
    "                matrix[idx][jdx] = 1\n",
    "        matrix[idx][idx] = 1\n",
    "        degrees[idx] = np.sum(matrix[idx])\n",
    "        matrix[idx] /= degrees[idx]\n",
    "    #############################################################################\n",
    "    #                              END OF YOUR CODE                             #\n",
    "    #############################################################################\n",
    "\n",
    "    return matrix"
   ]
  },
  {
   "cell_type": "code",
   "execution_count": 43,
   "metadata": {},
   "outputs": [],
   "source": [
    "matrix = create_matrix(sentences, 0, tf_metrics, idf_metrics)"
   ]
  },
  {
   "cell_type": "markdown",
   "metadata": {},
   "source": [
    "Реализуем power-метод:"
   ]
  },
  {
   "cell_type": "code",
   "execution_count": 44,
   "metadata": {},
   "outputs": [],
   "source": [
    "def power_method(matrix, epsilon):\n",
    "    \"\"\"\n",
    "    Perform Power-method.\n",
    "    \n",
    "    Inputs:\n",
    "    - matrix: matrix of sentences similarities\n",
    "    - epsilon: stop when values changes less then epsilon\n",
    "    - tf_metrics: list of TF metrics for each sentence\n",
    "    - idf_metrics: list of inverted document frequencies\n",
    "\n",
    "    Returns:\n",
    "    - vector of sentence's importancies\n",
    "    \"\"\"\n",
    "    transposed_matrix = matrix.T\n",
    "    sentences_count = len(transposed_matrix )\n",
    "    p_vector = np.array([1.0 / sentences_count] * sentences_count)\n",
    "    lambda_val = 1.0\n",
    "\n",
    "    #############################################################################\n",
    "    #                                 YOUR CODE                                 #\n",
    "    #############################################################################\n",
    "    while True:\n",
    "        p_vector_new = np.matmul(p_vector, transposed_matrix )\n",
    "        if np.linalg.norm(p_vector_new - p_vector) < epsilon:\n",
    "            break\n",
    "        p_vector = p_vector_new\n",
    "    #############################################################################\n",
    "    #                              END OF YOUR CODE                             #\n",
    "    #############################################################################\n",
    "\n",
    "    return p_vector"
   ]
  },
  {
   "cell_type": "code",
   "execution_count": 45,
   "metadata": {},
   "outputs": [],
   "source": [
    "values = power_method(matrix, 0.00000001)"
   ]
  },
  {
   "cell_type": "markdown",
   "metadata": {},
   "source": [
    "По полученым оценкам важности каждого предложения выделим k-самых важных."
   ]
  },
  {
   "cell_type": "code",
   "execution_count": 46,
   "metadata": {},
   "outputs": [],
   "source": [
    "def get_top_sentences(sentences, values, k):\n",
    "    \"\"\"\n",
    "    Get K top rated sentences from all sentences.\n",
    "    \n",
    "    Inputs:\n",
    "    - sentences: list of sentences\n",
    "    - values: list of computed sentence importancies\n",
    "    - k: number of sentences to extract\n",
    "\n",
    "    Returns:\n",
    "    - list of sentences\n",
    "    \"\"\"\n",
    "    top_sentences = []\n",
    "    \n",
    "    #############################################################################\n",
    "    #                                 YOUR CODE                                 #\n",
    "    #############################################################################\n",
    "    for idx, val in enumerate(np.argsort(-values)):\n",
    "        if idx > k:\n",
    "            break\n",
    "        top_sentences.append(sentences[val])\n",
    "    #############################################################################\n",
    "    #                              END OF YOUR CODE                             #\n",
    "    #############################################################################\n",
    "    \n",
    "    return top_sentences"
   ]
  },
  {
   "cell_type": "code",
   "execution_count": 47,
   "metadata": {},
   "outputs": [
    {
     "data": {
      "text/plain": [
       "[[u'the', u'new', u'york', u'time', u'said', u'editori', u'sunday', u'dec'],\n",
       " ['if',\n",
       "  u'lott',\n",
       "  u'refus',\n",
       "  u'allow',\n",
       "  u'bipartisan',\n",
       "  u'search',\n",
       "  u'censur',\n",
       "  u'burden',\n",
       "  u'fall',\n",
       "  u'upon',\n",
       "  u'respect',\n",
       "  u'member',\n",
       "  u'like',\n",
       "  u'joseph',\n",
       "  u'lieberman',\n",
       "  u'democrat',\n",
       "  u'side',\n",
       "  u'orrin',\n",
       "  u'hatch',\n",
       "  u'republican'],\n",
       " ['in',\n",
       "  u'intrigu',\n",
       "  u'report',\n",
       "  u'nbc',\n",
       "  u'tim',\n",
       "  u'russert',\n",
       "  u'describ',\n",
       "  u'discuss',\n",
       "  u'among',\n",
       "  u'bipartisan',\n",
       "  u'group',\n",
       "  u'senat',\n",
       "  u'censur',\n",
       "  u'would',\n",
       "  u'involv',\n",
       "  u'form',\n",
       "  u'presidenti',\n",
       "  u'confess',\n",
       "  u'fine',\n",
       "  u'joint',\n",
       "  u'congression',\n",
       "  u'request',\n",
       "  u'independ',\n",
       "  u'counsel',\n",
       "  u'kenneth',\n",
       "  u'starr',\n",
       "  u'prosecut',\n",
       "  u'clinton',\n",
       "  u'court'],\n",
       " [u'bob', u'dole']]"
      ]
     },
     "execution_count": 47,
     "metadata": {},
     "output_type": "execute_result"
    }
   ],
   "source": [
    "get_top_sentences(sentences, values, 3)"
   ]
  },
  {
   "cell_type": "markdown",
   "metadata": {
    "collapsed": true
   },
   "source": [
    "Построим саммари:"
   ]
  },
  {
   "cell_type": "code",
   "execution_count": 48,
   "metadata": {},
   "outputs": [
    {
     "name": "stdout",
     "output_type": "stream",
     "text": [
      "['The New York Times said in an editorial for Sunday, Dec.', 'If Lott refuses to allow a bipartisan search for censure, the burden will fall upon respected members like Joseph Lieberman on the Democratic side and Orrin Hatch for the Republicans.', 'In an intriguing report on NBC, Tim Russert described discussions among a bipartisan group of senators about a censure that would involve some form of presidential confession, a fine and a joint congressional request that Independent Counsel Kenneth Starr not prosecute Clinton in the courts.', 'Bob Dole.']\n",
      "[\"``We are here to debate impeachment and should not be distracted from that,'' the minority whip, Rep.\", \"CBS' corporate decision to try to have it both ways meant that Rather would break in with updates from Washington.\", \"``I'll see you very soon,'' he said as he signed off the complete coverage, looking like a trouper.\", 'But he was in a position no news anchor should have been in on this day.']\n",
      "['Bob Livingston, the incoming speaker of the House, took no public role Friday as the debate unfolded on whether to impeach President Clinton.', \"Despite Flynt's claims, many Republicans blamed the Clinton administration for smearing Livingston, although they offered no evidence.\", \"Lindsey Graham, R-S.C. Like many, including Livingston, Graham distinguished Livingston's conduct from Clinton's by saying that the president had ``trampled'' on the legal system whereas Livingston's behavior was strictly private.\", \"``We're not going to say, `Bob, you can't be speaker because you violated your vows with your wife,''' said Rep.\"]\n",
      "['Rejecting a last-minute Democratic attempt to soften its action to censure, the House of Representatives moved to impeach President William Jefferson Clinton for perjury on Saturday and to call on the Senate to try him, convict him and remove him from office.', 'Rep.', \"The bullies get theirs, and you're going to get yours, too.\", 'I can see a bunch of bullies when I see them.']\n",
      "[\"The raw passions were such that the House Democrats did not to hesitate to bellow ``You resign! You resign!'' at Speaker-elect Robert Livingston when he called from the House floor for President Clinton to quit the White House in the face of certain impeachment.\", \"``They must not succeed,'' David Bonior, the Democratic whip said of the Republicans as he was given the task of refocusing the day on the misdeeds of the president, not the departure of the speaker.\", \"Only moments before, Democrats openly hissed the man as Livingston firmly read his own judgment upon the president: ``Sir, you have done great damage to this nation over the past year.'' Presidential resignation was in order, he continued, and then came the shouts of ``You resign! You resign!'' And as Livingston closed the circle on his career, he stunned the place into a collective breath of disbelief and somehow almost threatened to reduce the dark historic issue before the House _ the impeachment of the president _ into a matter of anticlimax.\", \"``I have hurt you all deeply and beg your forgiveness,'' Livingston told the House, the nation and his family as he announced retreat.\"]\n",
      "['It has gotten to the point where drastic action may be necessary.', 'In an incredibly unseemly display, Trent Lott, the majority leader, and former Bush national security adviser Brent Scowcroft and Bush Secretary of State Lawrence Eagleburger chimed in on the attack.', 'Many Republican hawks argued that Bill Clinton should not be bombing Saddam, claiming the timing was suspicious, even though they had hammered him for not bombing five weeks ago.', 'The Republicans were so determined to do their high-tech lynching that they engaged in wacky role reversals.']\n",
      "['Rep.', \"Hastert, one of DeLay's deputy whips who is well respected among his colleagues, had been promoted as a candidate for majority leader last month, but never mounted a campaign.\", 'Rep.', 'Dick Armey of Texas only precariously held on to his majority-leader post last month and was not considered a likely candidate for speaker.']\n",
      "['In the end, the will of the people meant nothing.', 'The GOP can no longer conceal that it is a party of extremists, of right-wing absolutists, a party out of step with the political and cultural orientation of most Americans.', 'McHugh may have wished out loud for mercy, but he clearly was too frightened of the right-wingers in the House to cast a compassionate vote himself.', \"Of his colleagues in the Senate, McHugh said, ``I, for one, would accept, even welcome, their mercy.'' In other words, let the Senate do the heavy constitutional lifting.\"]\n",
      "['House Speaker-elect Robert L.', \"``It breaks your heart because we're all subject to human frailties,'' said Asa Hutchinson, R-Ark., as he left the conference.\", 'Larry Flint, publisher of Hustler, earlier this year advertised an offer of a $1 million bounty for information about e of members of Congress guilty of sexual indiscretions.', 'In its report on the internet Thursday night, Rollcall did not disclose its source but made an oblique reference to Hustler, the sex magazine.']\n",
      "['The only thing certain now is uncertainty.', 'Bob Dole, the Republican he defeated in 1996, as an emissary to the Senate majority.', 'The numbers are not unpromising: with the help of six Republicans, the 45 Democrats could end the trial at any time and pass a censure resolution that the House would surely take up.', 'There are enough Republican moderates and sometime party-buckers to make that a plausible target.']\n"
     ]
    }
   ],
   "source": [
    "for document in documents:\n",
    "    sentences = get_sentences(document)\n",
    "    sentences_tokenized = [sentence_words(x) for x in sentences]\n",
    "    tf_metrics = compute_tf(sentences_tokenized)\n",
    "    idf_metrics = compute_idf(sentences_tokenized)\n",
    "    \n",
    "    matrix = create_matrix(sentences_tokenized, 0.3, tf_metrics, idf_metrics)\n",
    "    sentence_values = power_method(matrix, 0.001)\n",
    "    \n",
    "    print(get_top_sentences(sentences, sentence_values, 3))"
   ]
  },
  {
   "cell_type": "code",
   "execution_count": null,
   "metadata": {},
   "outputs": [],
   "source": []
  }
 ],
 "metadata": {
  "anaconda-cloud": {},
  "kernelspec": {
   "display_name": "Python 2",
   "language": "python",
   "name": "python2"
  },
  "language_info": {
   "codemirror_mode": {
    "name": "ipython",
    "version": 2
   },
   "file_extension": ".py",
   "mimetype": "text/x-python",
   "name": "python",
   "nbconvert_exporter": "python",
   "pygments_lexer": "ipython2",
   "version": "2.7.14"
  }
 },
 "nbformat": 4,
 "nbformat_minor": 1
}
