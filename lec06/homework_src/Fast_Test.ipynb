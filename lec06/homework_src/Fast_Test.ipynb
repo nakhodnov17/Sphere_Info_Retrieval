{
 "cells": [
  {
   "cell_type": "code",
   "execution_count": 24,
   "metadata": {},
   "outputs": [],
   "source": [
    "func = lambda x: divmod(x, 3)[1]"
   ]
  },
  {
   "cell_type": "code",
   "execution_count": 106,
   "metadata": {},
   "outputs": [],
   "source": [
    "import copy\n",
    "import numpy as np"
   ]
  },
  {
   "cell_type": "code",
   "execution_count": 26,
   "metadata": {},
   "outputs": [],
   "source": [
    "sh = np.array(['1','2','3','4','5','6','7','8','9','10','11','12','13','14','15','16','17'])"
   ]
  },
  {
   "cell_type": "code",
   "execution_count": 28,
   "metadata": {},
   "outputs": [
    {
     "data": {
      "text/plain": [
       "'1'"
      ]
     },
     "execution_count": 28,
     "metadata": {},
     "output_type": "execute_result"
    }
   ],
   "source": [
    "sh[sorted(xrange(sh.shape[0]), key=func)][0]"
   ]
  },
  {
   "cell_type": "code",
   "execution_count": 67,
   "metadata": {},
   "outputs": [],
   "source": [
    "def _get_order_function(num):\n",
    "    basis = [1663, 1999, 2203, 2381, 2411,\n",
    "            2657, 2789, 2843, 2861, 2909,\n",
    "            2953, 3169, 3217, 3259, 3491,\n",
    "            3467, 3469, 3499, 3511, 27644437]\n",
    "    r = []\n",
    "    for idx in num:\n",
    "        print idx\n",
    "        r.append(lambda x: divmod(x, basis[idx])[1])\n",
    "    #return [lambda x: divmod(x, basis[idx])[1] for idx in num]\n",
    "    return r"
   ]
  },
  {
   "cell_type": "code",
   "execution_count": 75,
   "metadata": {},
   "outputs": [
    {
     "name": "stdout",
     "output_type": "stream",
     "text": [
      "10\n",
      "12\n"
     ]
    }
   ],
   "source": [
    "func = _get_order_function([10,12])"
   ]
  },
  {
   "cell_type": "code",
   "execution_count": 116,
   "metadata": {},
   "outputs": [
    {
     "name": "stdout",
     "output_type": "stream",
     "text": [
      "0\n",
      "2\n",
      "3\n",
      "0\n"
     ]
    }
   ],
   "source": [
    "basis = [3,5,7,11]\n",
    "r = []\n",
    "for idx in [0, 1]:\n",
    "    r.append(lambda x: divmod(x, basis[idx])[1])\n",
    "    print r[0](3)    \n",
    "    print r[0](5)"
   ]
  },
  {
   "cell_type": "code",
   "execution_count": 126,
   "metadata": {},
   "outputs": [
    {
     "name": "stdout",
     "output_type": "stream",
     "text": [
      "20177224\n",
      "0\n",
      "2\n",
      "20177176\n",
      "3\n",
      "0\n"
     ]
    }
   ],
   "source": [
    "r = []\n",
    "for val in [3, 5]:\n",
    "    r.append(lambda x: divmod(x, int(val))[1])\n",
    "    print id(val)\n",
    "    print r[0](3)    \n",
    "    print r[0](5)"
   ]
  },
  {
   "cell_type": "code",
   "execution_count": 113,
   "metadata": {},
   "outputs": [
    {
     "data": {
      "text/plain": [
       "<function copy.deepcopy>"
      ]
     },
     "execution_count": 113,
     "metadata": {},
     "output_type": "execute_result"
    }
   ],
   "source": [
    "copy.copy(basis[1])\n",
    "copy.deepcopy"
   ]
  },
  {
   "cell_type": "code",
   "execution_count": 127,
   "metadata": {},
   "outputs": [],
   "source": [
    "from collections import defaultdict"
   ]
  },
  {
   "cell_type": "code",
   "execution_count": 148,
   "metadata": {},
   "outputs": [],
   "source": [
    "tmp = defaultdict(int)"
   ]
  },
  {
   "cell_type": "code",
   "execution_count": 153,
   "metadata": {},
   "outputs": [
    {
     "name": "stdout",
     "output_type": "stream",
     "text": [
      "(1, 2) 10\n"
     ]
    }
   ],
   "source": [
    "tmp[(1,2)] += 1\n",
    "tmp[(1,2)] += 1\n",
    "for e, g in tmp.iteritems():\n",
    "    print e, g"
   ]
  },
  {
   "cell_type": "code",
   "execution_count": 154,
   "metadata": {},
   "outputs": [],
   "source": [
    "tmp = [1,2,3,5,6,5,1]"
   ]
  },
  {
   "cell_type": "code",
   "execution_count": 162,
   "metadata": {},
   "outputs": [
    {
     "data": {
      "text/plain": [
       "array([[1, 0],\n",
       "       [2, 1],\n",
       "       [3, 2],\n",
       "       [5, 3],\n",
       "       [6, 4],\n",
       "       [5, 5],\n",
       "       [1, 6]])"
      ]
     },
     "execution_count": 162,
     "metadata": {},
     "output_type": "execute_result"
    }
   ],
   "source": [
    "np.stack((tmp, xrange(len(tmp))), axis=1)"
   ]
  },
  {
   "cell_type": "code",
   "execution_count": 190,
   "metadata": {},
   "outputs": [],
   "source": [
    "A = ['a','a','a']\n",
    "B = ['b','b','b']"
   ]
  },
  {
   "cell_type": "code",
   "execution_count": 193,
   "metadata": {},
   "outputs": [],
   "source": [
    "for idx in xrange(len(A)):\n",
    "    A[idx] = A[idx] + B[idx]"
   ]
  },
  {
   "cell_type": "code",
   "execution_count": 194,
   "metadata": {},
   "outputs": [
    {
     "data": {
      "text/plain": [
       "['ab', 'ab', 'ab']"
      ]
     },
     "execution_count": 194,
     "metadata": {},
     "output_type": "execute_result"
    }
   ],
   "source": [
    "A"
   ]
  },
  {
   "cell_type": "code",
   "execution_count": null,
   "metadata": {},
   "outputs": [],
   "source": []
  }
 ],
 "metadata": {
  "kernelspec": {
   "display_name": "Python 2",
   "language": "python",
   "name": "python2"
  },
  "language_info": {
   "codemirror_mode": {
    "name": "ipython",
    "version": 2
   },
   "file_extension": ".py",
   "mimetype": "text/x-python",
   "name": "python",
   "nbconvert_exporter": "python",
   "pygments_lexer": "ipython2",
   "version": "2.7.12"
  }
 },
 "nbformat": 4,
 "nbformat_minor": 2
}
