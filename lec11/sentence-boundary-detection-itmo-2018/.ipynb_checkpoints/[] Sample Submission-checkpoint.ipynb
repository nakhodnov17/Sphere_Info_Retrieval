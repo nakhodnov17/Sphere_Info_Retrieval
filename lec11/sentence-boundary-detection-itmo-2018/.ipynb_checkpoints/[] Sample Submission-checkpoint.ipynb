{
 "cells": [
  {
   "cell_type": "code",
   "execution_count": 4,
   "metadata": {
    "collapsed": true
   },
   "outputs": [],
   "source": [
    "import pandas as pd\n",
    "import numpy as np\n",
    "import json\n",
    "import io"
   ]
  },
  {
   "cell_type": "code",
   "execution_count": 5,
   "metadata": {},
   "outputs": [],
   "source": [
    "train_data = []\n",
    "with io.open('train_data.json','r',encoding='utf8') as f:\n",
    "    for line in f.readlines():\n",
    "        d = json.loads(line)\n",
    "        train_data.append(d)"
   ]
  },
  {
   "cell_type": "code",
   "execution_count": 7,
   "metadata": {},
   "outputs": [],
   "source": [
    "test_data = []\n",
    "with io.open('test_data.json','r',encoding='utf8') as f:\n",
    "    for line in f.readlines():\n",
    "        d = json.loads(line)\n",
    "        test_data.append(d)"
   ]
  },
  {
   "cell_type": "code",
   "execution_count": 8,
   "metadata": {},
   "outputs": [],
   "source": [
    "end_of_sentences = set()\n",
    "for paragraph in train_data:\n",
    "    for sentence in paragraph['Sentences']:\n",
    "        end_of_sentences.add(sentence[-1])"
   ]
  },
  {
   "cell_type": "code",
   "execution_count": 9,
   "metadata": {},
   "outputs": [
    {
     "name": "stdout",
     "output_type": "stream",
     "text": [
      "!\n",
      "\"\n",
      "…\n",
      ".\n",
      "»\n",
      "?\n"
     ]
    }
   ],
   "source": [
    "for symbol in end_of_sentences:\n",
    "    print(symbol)"
   ]
  },
  {
   "cell_type": "code",
   "execution_count": 35,
   "metadata": {},
   "outputs": [
    {
     "name": "stdout",
     "output_type": "stream",
     "text": [
      "В конечном счете, именно количество нервных связей, присущих определенным организмам и обеспечивающих их нормальную жизнедеятельность, наиболее полно отражает как уровень их морфофизиологической организации, так и уровень сложности их среды обитания. Количество же необходимых для выживания организмов нервных связей определяется как уровнем морфофизиологической организации организмов противоборствующих видов, так и уровнем сложности внутривидовых взаимосвязей данного вида организмов.\n",
      "[{u'Index': 1, u'Pos': 249, u'Mark': u'.'}, {u'Index': 2, u'Pos': 486, u'Mark': u'.'}]\n"
     ]
    }
   ],
   "source": [
    "print test_data[0]['Paragraph']\n",
    "print test_data[0]['Marks']"
   ]
  },
  {
   "cell_type": "code",
   "execution_count": 26,
   "metadata": {},
   "outputs": [
    {
     "name": "stdout",
     "output_type": "stream",
     "text": [
      "Великолепная «Школа злословия» вернулась в эфир после летних каникул в новом формате. В истории программы это уже не первый «ребрендинг». Сейчас с трудом можно припомнить, что начиналась «Школа…» на канале «Культура» как стандартное ток-шоу, которое отличалось от других «кухонными» обсуждениями гостя, что называется – «за глаза», и неожиданными персонами в качестве ведущих.\n",
      "0 Великолепная «Школа злословия» вернулась в эфир после летних каникул в новом формате.\n",
      "1 В истории программы это уже не первый «ребрендинг».\n",
      "2 Сейчас с трудом можно припомнить, что начиналась «Школа…» на канале «Культура» как стандартное ток-шоу, которое отличалось от других «кухонными» обсуждениями гостя, что называется – «за глаза», и неожиданными персонами в качестве ведущих.\n"
     ]
    }
   ],
   "source": [
    "print train_data[0]['Paragraph']\n",
    "for i,x in enumerate(train_data[0]['Sentences']): \n",
    "        print i,x"
   ]
  },
  {
   "cell_type": "code",
   "execution_count": 10,
   "metadata": {
    "collapsed": true
   },
   "outputs": [],
   "source": [
    "good_ends = [u'!', u'…', u'.', u'?']"
   ]
  },
  {
   "cell_type": "code",
   "execution_count": 11,
   "metadata": {
    "collapsed": true
   },
   "outputs": [],
   "source": [
    "out_data = np.zeros((26476,1))"
   ]
  },
  {
   "cell_type": "code",
   "execution_count": 59,
   "metadata": {},
   "outputs": [],
   "source": [
    "prim_test_data = [test_data[i] for i in range(100, 102)]\n",
    "prim_out_data = np.zeros((10,1))"
   ]
  },
  {
   "cell_type": "code",
   "execution_count": 70,
   "metadata": {
    "scrolled": true
   },
   "outputs": [
    {
     "name": "stdout",
     "output_type": "stream",
     "text": [
      "В условиях неравновесного рынка, где спрос не уравновешен предложением, где у одной из противоположностей появляется возможность проявить свою субъективную волю и повысить уровень своего удовлетворения обменом в ущерб удовлетворенности обменом своего антипода, рождаются субъективные (монопольные) цены и стоимости товаров, которые могут как многократно превышать цену производства этих товаров, так и равняться нулю.\n",
      "[{u'Index': 324, u'Pos': 416, u'Mark': u'.'}]\n",
      "features: [1, 1, 0, 1, 'end', '']\n",
      "predict: 1\n",
      "Формирование субъективных цен товаров, ущемляя интересы соответствующих участников товарообмена, рождает их деятельность, нацеленную на устранение причин этого отклонения, деятельность, которая является движущей силой, \"толкающей\" рынок к равновесию, к \"норме\": к такому состоянию, где рождаются объективные цены товаров, где рождается удовлетворенность обменом основной массы его участников.\n",
      "[{u'Index': 325, u'Pos': 219, u'Mark': u'\"'}, {u'Index': 326, u'Pos': 229, u'Mark': u'\"'}, {u'Index': 327, u'Pos': 253, u'Mark': u'\"'}, {u'Index': 328, u'Pos': 259, u'Mark': u'\"'}, {u'Index': 329, u'Pos': 391, u'Mark': u'.'}]\n",
      "features: [0, 0, False, 0, u'\\u0442', u'\\u0442']\n",
      "predict: 0\n",
      "features: [1, 0, False, 0, u' ', u'\\u0440']\n",
      "predict: 1\n",
      "features: [0, 0, False, 0, u'\\u043d', u'\\u043d']\n",
      "predict: 0\n",
      "features: [0, 0, False, 1, u':', u'\\u043a']\n",
      "predict: 1\n",
      "features: [1, 1, 0, 1, 'end', '']\n",
      "predict: 1\n"
     ]
    }
   ],
   "source": [
    "for p in prim_test_data:\n",
    "    par = p['Paragraph']\n",
    "    print par\n",
    "    print p['Marks']\n",
    "    \n",
    "    \n",
    "    for cand in p['Marks']:\n",
    "        features = get_features(par, cand)\n",
    "        print \"features:\",features\n",
    "        print \"predict:\",predict(features)\n",
    "#         cand_pos = cand['Pos']\n",
    "#         next_symbol = \"\"\n",
    "#         if cand_pos + 1 >= len(par):\n",
    "#             next_symbol = 'end'\n",
    "#         else:\n",
    "#             next_symbol = par[cand_pos+1]\n",
    "            \n",
    "#         if cand['Mark'] in good_ends and (next_symbol == 'end' or next_symbol == ' '):\n",
    "#             print \"[\", next_symbol, cand['Mark'], 1, ']' \n",
    "#             prim_out_data[cand['Index']-1] = 1\n",
    "#         else:\n",
    "#             prim_out_data[cand['Index']-1] = 0\n",
    "#             print \"[\", next_symbol, cand['Mark'], 1, ']'"
   ]
  },
  {
   "cell_type": "code",
   "execution_count": 67,
   "metadata": {},
   "outputs": [
    {
     "data": {
      "text/plain": [
       "'av'"
      ]
     },
     "execution_count": 67,
     "metadata": {},
     "output_type": "execute_result"
    }
   ],
   "source": [
    "'a'+'v'"
   ]
  },
  {
   "cell_type": "code",
   "execution_count": 80,
   "metadata": {},
   "outputs": [],
   "source": [
    "def get_features(par, cand):\n",
    "    cand_pos = cand['Pos']\n",
    "    \n",
    "    next_symbol = \"\"\n",
    "    two_next_symbol = \"\"\n",
    "    \n",
    "    if cand_pos + 1 >= len(par):\n",
    "        next_symbol = 'end'\n",
    "    else:\n",
    "        next_symbol = par[cand_pos+1]\n",
    "        \n",
    "    if cand_pos + 2 >= len(par):\n",
    "        two_next_symbol = 'end'\n",
    "    else:\n",
    "        two_next_symbol = par[cand_pos+2]\n",
    "    \n",
    "    is_two_next_symbol_space_end_or_n = 0\n",
    "    \n",
    "    if two_next_symbol in [' ', 'end', '\\n', '\\r\\n']:\n",
    "        is_two_next_symbol_space_end_or_n = 1\n",
    "    \n",
    "    is_in_good = 0\n",
    "    if cand['Mark'] in good_ends:\n",
    "        is_in_good = 1\n",
    "    is_next_symbol_space_end_or_n  = 0\n",
    "    \n",
    "    if next_symbol  in [' ', 'end', '\\n', '\\r\\n']:\n",
    "        is_next_symbol_space_end_or_n = 1\n",
    "    \n",
    "    is_next_char_capital = 0\n",
    "    \n",
    "    next_char = ''\n",
    "    for i in range(cand_pos, len(par)):\n",
    "        if par[i].isalpha() == True:\n",
    "            next_char = par[i]\n",
    "            is_next_char_capital = par[i].isupper()\n",
    "            break\n",
    "    \n",
    "    \n",
    "            \n",
    "    return [is_next_symbol_space_end_or_n, is_in_good, is_next_char_capital,\n",
    "            is_two_next_symbol_space_end_or_n,\n",
    "            next_symbol, next_char]\n",
    "\n",
    "def predict(features):\n",
    "    is_next_symbol_space_end_or_n, is_in_good, is_next_char_capital,is_two_next_symbol_space_end_or_n, next_symbol, next_char = features\n",
    "    if is_two_next_symbol_space_end_or_n == 1:\n",
    "        return 1\n",
    "    if is_next_symbol_space_end_or_n == 1:\n",
    "        return 1\n",
    "    \n",
    "    if is_in_good == 1 and is_next_char_capital==1:\n",
    "        return 1\n",
    "    \n",
    "    return 0\n",
    "\n",
    "def pred_2(par, cand):\n",
    "    cand_pos = cand['Pos']\n",
    "    if cand_pos + 1 >= len(par):\n",
    "        return 1\n",
    "    \n",
    "    letter_first = ''\n",
    "    for i in range(cand_pos, len(par)):\n",
    "        if par[i].isalpha():\n",
    "            letter_first = par[i]\n",
    "            break\n",
    "    \n",
    "    if par[cand_pos + 1] in [' ', '\\n', '\\r\\n'] and letter_first.isupper():\n",
    "        return 1\n",
    "    return 0"
   ]
  },
  {
   "cell_type": "code",
   "execution_count": 81,
   "metadata": {
    "collapsed": true
   },
   "outputs": [],
   "source": [
    "for p in test_data:\n",
    "    par = p['Paragraph']\n",
    "    for cand in p['Marks']:\n",
    "        features = get_features(par, cand)\n",
    "        pred = predict(features)\n",
    "        out_data[cand['Index']-1] = pred_2(par, cand)"
   ]
  },
  {
   "cell_type": "code",
   "execution_count": 77,
   "metadata": {},
   "outputs": [],
   "source": [
    "for p in test_data:\n",
    "    par = p['Paragraph']\n",
    "    for cand in p['Marks']:\n",
    "        \n",
    "        cand_pos = cand['Pos']\n",
    "        next_symbol = \"\"\n",
    "        two_next_symbol = ''\n",
    "        if cand_pos + 1 >= len(par):\n",
    "            next_symbol = 'end'\n",
    "        else:\n",
    "            next_symbol = par[cand_pos+1]\n",
    "            \n",
    "        if cand_pos + 2 >= len(par):\n",
    "            two_next_symbol = 'end'\n",
    "        else:\n",
    "            two_next_symbol = par[cand_pos+2]\n",
    "        \n",
    "        if cand['Mark'] in good_ends and (next_symbol == 'end' or next_symbol == ' ') and (two_next_symbol in ['end', ' '] or two_next_symbol.isalpha()):\n",
    "            out_data[cand['Index']-1] = 1\n",
    "        else:\n",
    "            out_data[cand['Index']-1] = 0"
   ]
  },
  {
   "cell_type": "code",
   "execution_count": 82,
   "metadata": {
    "collapsed": true
   },
   "outputs": [],
   "source": [
    "df = pd.DataFrame(out_data, columns=['Mark'], index=range(1,26477))\n",
    "df.index.name = 'Id'"
   ]
  },
  {
   "cell_type": "code",
   "execution_count": 83,
   "metadata": {
    "collapsed": true
   },
   "outputs": [],
   "source": [
    "df.to_csv(\"sampleSubmission.csv\")"
   ]
  },
  {
   "cell_type": "code",
   "execution_count": null,
   "metadata": {
    "collapsed": true
   },
   "outputs": [],
   "source": []
  }
 ],
 "metadata": {
  "kernelspec": {
   "display_name": "Python 2",
   "language": "python",
   "name": "python2"
  },
  "language_info": {
   "codemirror_mode": {
    "name": "ipython",
    "version": 2
   },
   "file_extension": ".py",
   "mimetype": "text/x-python",
   "name": "python",
   "nbconvert_exporter": "python",
   "pygments_lexer": "ipython2",
   "version": "2.7.12"
  }
 },
 "nbformat": 4,
 "nbformat_minor": 1
}
